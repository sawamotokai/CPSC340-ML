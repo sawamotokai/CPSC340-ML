{
 "cells": [
  {
   "cell_type": "code",
   "execution_count": 2,
   "metadata": {},
   "outputs": [],
   "source": [
    "import numpy as np"
   ]
  },
  {
   "cell_type": "code",
   "execution_count": 3,
   "metadata": {},
   "outputs": [
    {
     "name": "stdout",
     "output_type": "stream",
     "text": [
      "[[1. 1.]\n",
      " [1. 1.]\n",
      " [1. 1.]\n",
      " [1. 1.]\n",
      " [1. 1.]]\n"
     ]
    }
   ],
   "source": [
    "X1 = np.ones((5,2))\n",
    "print(X1)"
   ]
  },
  {
   "cell_type": "code",
   "execution_count": 4,
   "metadata": {},
   "outputs": [],
   "source": [
    "X2 = np.ones((5,2))\n",
    "X2 *= 4"
   ]
  },
  {
   "cell_type": "code",
   "execution_count": 5,
   "metadata": {},
   "outputs": [
    {
     "name": "stdout",
     "output_type": "stream",
     "text": [
      "[[4. 4.]\n",
      " [4. 4.]\n",
      " [4. 4.]\n",
      " [4. 4.]\n",
      " [4. 4.]]\n"
     ]
    }
   ],
   "source": [
    "print(X2)"
   ]
  },
  {
   "cell_type": "code",
   "execution_count": 18,
   "metadata": {},
   "outputs": [
    {
     "name": "stdout",
     "output_type": "stream",
     "text": [
      "[[-4 -1]\n",
      " [-5 -6]\n",
      " [-2 -2]\n",
      " [-3 -1]\n",
      " [-1 -1]]\n",
      "[4.12310563 7.81024968 2.82842712 3.16227766 1.41421356]\n"
     ]
    }
   ],
   "source": [
    "X3 = X1[0, :] - X2\n",
    "print(X3)\n",
    "X3 = np.linalg.norm(X3, axis=1)\n",
    "print(X3)"
   ]
  },
  {
   "cell_type": "code",
   "execution_count": 10,
   "metadata": {},
   "outputs": [
    {
     "name": "stdout",
     "output_type": "stream",
     "text": [
      "[[0 1]\n",
      " [2 3]\n",
      " [4 5]\n",
      " [6 7]\n",
      " [8 9]]\n"
     ]
    }
   ],
   "source": [
    "X1 = np.arange(10).reshape((5,2))\n",
    "print(X1)"
   ]
  },
  {
   "cell_type": "code",
   "execution_count": 13,
   "metadata": {},
   "outputs": [
    {
     "name": "stdout",
     "output_type": "stream",
     "text": [
      "[[4 2]\n",
      " [5 7]\n",
      " [2 3]\n",
      " [3 2]\n",
      " [1 2]]\n"
     ]
    }
   ],
   "source": [
    "X2 = np.array([4,2,5,7,2,3,3,2,1,2]).reshape((5,2))\n",
    "print(X2)"
   ]
  },
  {
   "cell_type": "code",
   "execution_count": 1,
   "metadata": {},
   "outputs": [],
   "source": [
    "import os\n",
    "import pickle\n",
    "import argparse\n",
    "import matplotlib.pyplot as plt\n",
    "import numpy as np\n",
    "from numpy.linalg import norm\n",
    "from sklearn.model_selection import train_test_split\n",
    "\n",
    "import utils\n",
    "import logReg\n",
    "from logReg import logRegL2, kernelLogRegL2, kernel_poly\n",
    "from pca import PCA, AlternativePCA, RobustPCA\n",
    "def load_dataset(filename):\n",
    "    with open(os.path.join(\"..\", \"data\", filename), \"rb\") as f:\n",
    "        return pickle.load(f)\n",
    "\n"
   ]
  },
  {
   "cell_type": "code",
   "execution_count": null,
   "metadata": {},
   "outputs": [
    {
     "name": "stderr",
     "output_type": "stream",
     "text": [
      "100%|██████████| 300/300 [00:00<00:00, 20665.33it/s]\n",
      "/Users/kaisawamoto/Desktop/CPSC/cpsc340/a5/code/logReg.py:84: RuntimeWarning: overflow encountered in exp\n",
      "  f = np.sum(np.log(1.0 + np.exp(-yKu)))\n",
      "/Users/kaisawamoto/Desktop/CPSC/cpsc340/a5/code/logReg.py:11: RuntimeWarning: overflow encountered in exp\n",
      "  out = np.log(1 + np.exp(x))\n",
      "/Users/kaisawamoto/Desktop/CPSC/cpsc340/a5/code/logReg.py:91: RuntimeWarning: overflow encountered in exp\n",
      "  res = -y / (1.0 + np.exp(yKu))\n",
      "/Users/kaisawamoto/Desktop/CPSC/cpsc340/a5/code/logReg.py:88: RuntimeWarning: overflow encountered in matmul\n",
      "  f += 0.5 * self.lammy * u.T @ K @ u\n",
      "/Users/kaisawamoto/Desktop/CPSC/cpsc340/a5/code/findMin.py:45: RuntimeWarning: invalid value encountered in double_scalars\n",
      "  alpha = -alpha*np.dot(y.T,g) / np.dot(y.T,y)\n",
      "100%|██████████| 300/300 [00:00<00:00, 32116.47it/s]\n",
      "100%|██████████| 100/100 [00:00<00:00, 16348.24it/s]\n",
      "100%|██████████| 300/300 [00:00<00:00, 27339.89it/s]\n",
      "100%|██████████| 300/300 [00:00<00:00, 33948.23it/s]\n",
      "100%|██████████| 100/100 [00:00<00:00, 18271.85it/s]\n",
      "100%|██████████| 300/300 [00:00<00:00, 23633.43it/s]\n"
     ]
    },
    {
     "name": "stdout",
     "output_type": "stream",
     "text": [
      "Training error RBFs Kernel 0.380\n",
      "Validation error RBFs Kernel 0.360\n",
      "Training error RBFs Kernel 0.380\n",
      "Validation error RBFs Kernel 0.360\n"
     ]
    },
    {
     "name": "stderr",
     "output_type": "stream",
     "text": [
      "100%|██████████| 300/300 [00:00<00:00, 30357.58it/s]\n",
      "100%|██████████| 100/100 [00:00<00:00, 14764.52it/s]\n",
      "100%|██████████| 300/300 [00:00<00:00, 22334.28it/s]\n",
      "100%|██████████| 300/300 [00:00<00:00, 33296.94it/s]\n",
      "100%|██████████| 100/100 [00:00<00:00, 17976.62it/s]\n",
      "100%|██████████| 300/300 [00:00<00:00, 24915.18it/s]\n"
     ]
    },
    {
     "name": "stdout",
     "output_type": "stream",
     "text": [
      "Training error RBFs Kernel 0.380\n",
      "Validation error RBFs Kernel 0.360\n",
      "Training error RBFs Kernel 0.380\n",
      "Validation error RBFs Kernel 0.360\n"
     ]
    },
    {
     "name": "stderr",
     "output_type": "stream",
     "text": [
      "100%|██████████| 300/300 [00:00<00:00, 27357.13it/s]\n",
      "100%|██████████| 100/100 [00:00<00:00, 19643.61it/s]\n",
      "100%|██████████| 300/300 [00:00<00:00, 22865.97it/s]\n",
      "100%|██████████| 300/300 [00:00<00:00, 28760.28it/s]\n",
      "100%|██████████| 100/100 [00:00<00:00, 20772.11it/s]\n",
      "100%|██████████| 300/300 [00:00<00:00, 21940.56it/s]\n"
     ]
    },
    {
     "name": "stdout",
     "output_type": "stream",
     "text": [
      "Training error RBFs Kernel 0.140\n",
      "Validation error RBFs Kernel 0.130\n",
      "Training error RBFs Kernel 0.380\n",
      "Validation error RBFs Kernel 0.360\n"
     ]
    },
    {
     "name": "stderr",
     "output_type": "stream",
     "text": [
      "100%|██████████| 300/300 [00:00<00:00, 30702.76it/s]\n",
      "100%|██████████| 100/100 [00:00<00:00, 19975.73it/s]\n",
      "100%|██████████| 300/300 [00:00<00:00, 22777.39it/s]\n",
      "100%|██████████| 300/300 [00:00<00:00, 24548.19it/s]\n",
      "100%|██████████| 100/100 [00:00<00:00, 18011.35it/s]\n",
      "100%|██████████| 300/300 [00:00<00:00, 21528.76it/s]\n"
     ]
    },
    {
     "name": "stdout",
     "output_type": "stream",
     "text": [
      "Training error RBFs Kernel 0.380\n",
      "Validation error RBFs Kernel 0.360\n",
      "Training error RBFs Kernel 0.380\n",
      "Validation error RBFs Kernel 0.360\n"
     ]
    },
    {
     "name": "stderr",
     "output_type": "stream",
     "text": [
      "100%|██████████| 300/300 [00:00<00:00, 32033.07it/s]\n",
      "100%|██████████| 100/100 [00:00<00:00, 22109.03it/s]\n",
      "100%|██████████| 300/300 [00:00<00:00, 22751.44it/s]\n",
      "100%|██████████| 300/300 [00:00<00:00, 28200.79it/s]\n",
      "100%|██████████| 100/100 [00:00<00:00, 16705.05it/s]\n",
      "  0%|          | 0/300 [00:00<?, ?it/s]/Users/kaisawamoto/Desktop/CPSC/cpsc340/a5/code/logReg.py:58: RuntimeWarning: divide by zero encountered in true_divide\n",
      "  K[i1, :] = np.exp(-(np.linalg.norm(X1[i1, :] - X2, axis=1) / (2 * sigma ** 2)))\n",
      "/Users/kaisawamoto/Desktop/CPSC/cpsc340/a5/code/logReg.py:58: RuntimeWarning: invalid value encountered in true_divide\n",
      "  K[i1, :] = np.exp(-(np.linalg.norm(X1[i1, :] - X2, axis=1) / (2 * sigma ** 2)))\n",
      "100%|██████████| 300/300 [00:00<00:00, 21346.51it/s]\n",
      "/Users/kaisawamoto/Desktop/CPSC/cpsc340/a5/code/logReg.py:12: RuntimeWarning: invalid value encountered in greater\n",
      "  out[x > 100] = x[x > 100]\n",
      "/Users/kaisawamoto/Desktop/CPSC/cpsc340/a5/code/logReg.py:13: RuntimeWarning: invalid value encountered in less\n",
      "  out[x < -100] = np.exp(x[x < -100])\n"
     ]
    },
    {
     "name": "stdout",
     "output_type": "stream",
     "text": [
      "Training error RBFs Kernel 0.380\n",
      "Validation error RBFs Kernel 0.360\n",
      "Training error RBFs Kernel 0.130\n",
      "Validation error RBFs Kernel 0.110\n"
     ]
    },
    {
     "name": "stderr",
     "output_type": "stream",
     "text": [
      "/Users/kaisawamoto/Desktop/CPSC/cpsc340/a5/code/utils.py:56: RuntimeWarning: invalid value encountered in greater\n",
      "  if np.max(np.abs(estimated_gradient - implemented_gradient) > 1e-3):\n"
     ]
    }
   ],
   "source": [
    "dataset = load_dataset(\"nonLinearData.pkl\")\n",
    "X = dataset[\"X\"]\n",
    "y = dataset[\"y\"]\n",
    "\n",
    "Xtrain, Xtest, ytrain, ytest = train_test_split(X, y, random_state=0)\n",
    "\n",
    "# YOUR CODE HERE\n",
    "for sigma in range(-2, 3):\n",
    "    for lammy in range(-4, 1):\n",
    "        model = kernelLogRegL2(lammy=lammy, sigma=sigma)\n",
    "        model.fit(Xtrain, ytrain)\n",
    "        print(f'Sigma: {sigma} lambda: {lammy}')\n",
    "        print(\n",
    "            \"Training error RBFs Kernel %.3f\"\n",
    "            % np.mean(model.predict(Xtrain) != ytrain)\n",
    "        )\n",
    "        print(\n",
    "            \"Validation error RBFs Kernel %.3f\"\n",
    "            % np.mean(model.predict(Xtest) != ytest)\n",
    "        )\n",
    "\n"
   ]
  },
  {
   "cell_type": "code",
   "execution_count": null,
   "metadata": {},
   "outputs": [],
   "source": []
  }
 ],
 "metadata": {
  "kernelspec": {
   "display_name": "Python 3",
   "language": "python",
   "name": "python3"
  },
  "language_info": {
   "codemirror_mode": {
    "name": "ipython",
    "version": 3
   },
   "file_extension": ".py",
   "mimetype": "text/x-python",
   "name": "python",
   "nbconvert_exporter": "python",
   "pygments_lexer": "ipython3",
   "version": "3.8.3"
  }
 },
 "nbformat": 4,
 "nbformat_minor": 4
}
